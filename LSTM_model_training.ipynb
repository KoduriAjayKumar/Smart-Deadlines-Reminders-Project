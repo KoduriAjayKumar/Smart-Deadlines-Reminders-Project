{
  "cells": [
    {
      "cell_type": "code",
      "execution_count": null,
      "metadata": {
        "id": "zsvjByeqKgxx"
      },
      "outputs": [],
      "source": [
        "import pickle\n",
        "import numpy as np\n",
        "import pandas as pd\n",
        "from tensorflow.keras.preprocessing.text import Tokenizer\n",
        "from tensorflow.keras.preprocessing.sequence import pad_sequences\n",
        "from tensorflow.keras.models import Sequential\n",
        "from tensorflow.keras.layers import Embedding, LSTM, Dense, Dropout\n",
        "from sklearn.model_selection import train_test_split"
      ]
    },
    {
      "cell_type": "code",
      "execution_count": null,
      "metadata": {
        "id": "-4GtkCmEKlmu",
        "colab": {
          "base_uri": "https://localhost:8080/",
          "height": 458
        },
        "outputId": "9d8253bd-ebf4-4e4b-efcb-010d6728fdf1"
      },
      "outputs": [
        {
          "output_type": "execute_result",
          "data": {
            "text/plain": [
              "0          Remember to submit your report by 5 PM today.\n",
              "1          The meeting has been rescheduled to tomorrow.\n",
              "2             Don't forget to buy milk on your way home.\n",
              "3             The deadline for the project is next week.\n",
              "4      Reminder: Your dentist appointment is at 10 AM...\n",
              "                             ...                        \n",
              "395                         Your order has been shipped.\n",
              "396                              Happy Independence Day!\n",
              "397     Don't miss the early bird registration deadline.\n",
              "398                                 Enjoy your vacation!\n",
              "399              Please update your contact information.\n",
              "Name: message, Length: 400, dtype: object"
            ],
            "text/html": [
              "<div>\n",
              "<style scoped>\n",
              "    .dataframe tbody tr th:only-of-type {\n",
              "        vertical-align: middle;\n",
              "    }\n",
              "\n",
              "    .dataframe tbody tr th {\n",
              "        vertical-align: top;\n",
              "    }\n",
              "\n",
              "    .dataframe thead th {\n",
              "        text-align: right;\n",
              "    }\n",
              "</style>\n",
              "<table border=\"1\" class=\"dataframe\">\n",
              "  <thead>\n",
              "    <tr style=\"text-align: right;\">\n",
              "      <th></th>\n",
              "      <th>message</th>\n",
              "    </tr>\n",
              "  </thead>\n",
              "  <tbody>\n",
              "    <tr>\n",
              "      <th>0</th>\n",
              "      <td>Remember to submit your report by 5 PM today.</td>\n",
              "    </tr>\n",
              "    <tr>\n",
              "      <th>1</th>\n",
              "      <td>The meeting has been rescheduled to tomorrow.</td>\n",
              "    </tr>\n",
              "    <tr>\n",
              "      <th>2</th>\n",
              "      <td>Don't forget to buy milk on your way home.</td>\n",
              "    </tr>\n",
              "    <tr>\n",
              "      <th>3</th>\n",
              "      <td>The deadline for the project is next week.</td>\n",
              "    </tr>\n",
              "    <tr>\n",
              "      <th>4</th>\n",
              "      <td>Reminder: Your dentist appointment is at 10 AM...</td>\n",
              "    </tr>\n",
              "    <tr>\n",
              "      <th>...</th>\n",
              "      <td>...</td>\n",
              "    </tr>\n",
              "    <tr>\n",
              "      <th>395</th>\n",
              "      <td>Your order has been shipped.</td>\n",
              "    </tr>\n",
              "    <tr>\n",
              "      <th>396</th>\n",
              "      <td>Happy Independence Day!</td>\n",
              "    </tr>\n",
              "    <tr>\n",
              "      <th>397</th>\n",
              "      <td>Don't miss the early bird registration deadline.</td>\n",
              "    </tr>\n",
              "    <tr>\n",
              "      <th>398</th>\n",
              "      <td>Enjoy your vacation!</td>\n",
              "    </tr>\n",
              "    <tr>\n",
              "      <th>399</th>\n",
              "      <td>Please update your contact information.</td>\n",
              "    </tr>\n",
              "  </tbody>\n",
              "</table>\n",
              "<p>400 rows × 1 columns</p>\n",
              "</div><br><label><b>dtype:</b> object</label>"
            ]
          },
          "metadata": {},
          "execution_count": 2
        }
      ],
      "source": [
        "df = pd.read_csv(\"/content/dl.csv\")\n",
        "texts=df[\"message\"]\n",
        "texts"
      ]
    },
    {
      "cell_type": "code",
      "execution_count": null,
      "metadata": {
        "id": "BKVUTNfTKslU",
        "colab": {
          "base_uri": "https://localhost:8080/",
          "height": 458
        },
        "outputId": "679dbcee-a622-4e8a-cbde-d43d0dd0d6ed"
      },
      "outputs": [
        {
          "output_type": "execute_result",
          "data": {
            "text/plain": [
              "0      1\n",
              "1      1\n",
              "2      0\n",
              "3      1\n",
              "4      1\n",
              "      ..\n",
              "395    0\n",
              "396    0\n",
              "397    1\n",
              "398    0\n",
              "399    1\n",
              "Name: label, Length: 400, dtype: int64"
            ],
            "text/html": [
              "<div>\n",
              "<style scoped>\n",
              "    .dataframe tbody tr th:only-of-type {\n",
              "        vertical-align: middle;\n",
              "    }\n",
              "\n",
              "    .dataframe tbody tr th {\n",
              "        vertical-align: top;\n",
              "    }\n",
              "\n",
              "    .dataframe thead th {\n",
              "        text-align: right;\n",
              "    }\n",
              "</style>\n",
              "<table border=\"1\" class=\"dataframe\">\n",
              "  <thead>\n",
              "    <tr style=\"text-align: right;\">\n",
              "      <th></th>\n",
              "      <th>label</th>\n",
              "    </tr>\n",
              "  </thead>\n",
              "  <tbody>\n",
              "    <tr>\n",
              "      <th>0</th>\n",
              "      <td>1</td>\n",
              "    </tr>\n",
              "    <tr>\n",
              "      <th>1</th>\n",
              "      <td>1</td>\n",
              "    </tr>\n",
              "    <tr>\n",
              "      <th>2</th>\n",
              "      <td>0</td>\n",
              "    </tr>\n",
              "    <tr>\n",
              "      <th>3</th>\n",
              "      <td>1</td>\n",
              "    </tr>\n",
              "    <tr>\n",
              "      <th>4</th>\n",
              "      <td>1</td>\n",
              "    </tr>\n",
              "    <tr>\n",
              "      <th>...</th>\n",
              "      <td>...</td>\n",
              "    </tr>\n",
              "    <tr>\n",
              "      <th>395</th>\n",
              "      <td>0</td>\n",
              "    </tr>\n",
              "    <tr>\n",
              "      <th>396</th>\n",
              "      <td>0</td>\n",
              "    </tr>\n",
              "    <tr>\n",
              "      <th>397</th>\n",
              "      <td>1</td>\n",
              "    </tr>\n",
              "    <tr>\n",
              "      <th>398</th>\n",
              "      <td>0</td>\n",
              "    </tr>\n",
              "    <tr>\n",
              "      <th>399</th>\n",
              "      <td>1</td>\n",
              "    </tr>\n",
              "  </tbody>\n",
              "</table>\n",
              "<p>400 rows × 1 columns</p>\n",
              "</div><br><label><b>dtype:</b> int64</label>"
            ]
          },
          "metadata": {},
          "execution_count": 3
        }
      ],
      "source": [
        "labels = df[\"label\"]\n",
        "labels"
      ]
    },
    {
      "cell_type": "code",
      "execution_count": null,
      "metadata": {
        "id": "Yg_lAin_KwAn",
        "colab": {
          "base_uri": "https://localhost:8080/"
        },
        "outputId": "ad370369-10d4-42e6-f4eb-3b20c6954cdf"
      },
      "outputs": [
        {
          "output_type": "stream",
          "name": "stdout",
          "text": [
            "[[179, 7, 66, 2, 67, 15, 180, 74, 159], [1, 37, 18, 29, 93, 7, 13], [6, 9, 7, 75, 181, 61, 2, 182, 183], [1, 8, 3, 1, 68, 4, 10, 21], [26, 2, 76, 47, 4, 22, 160, 40, 13], [11, 2, 62], [5, 48, 7, 161, 94, 162, 163, 162, 184], [164, 95, 7, 69, 2, 38], [1, 77, 20, 36, 56, 41], [185, 186, 63, 3, 187, 188, 161, 21], [6, 19, 147, 61, 156, 165, 95, 189], [2, 190, 18, 29, 191], [192, 17, 1, 193, 194, 166, 1, 37], [1, 31, 20, 22, 195, 74, 42], [14, 96, 196, 167, 197, 78, 198, 12], [5, 79, 1, 70, 15, 1, 23, 24, 1, 12], [26, 13, 4, 1, 8, 3, 39], [6, 9, 7, 64, 3, 1, 199], [1, 16, 97, 36, 200, 41], [201, 167, 78, 202, 203], [168, 204, 80, 61, 205, 206], [1, 28, 49, 61, 43], [11, 2, 50], [2, 207, 4, 208], [209, 210, 2, 169, 61, 1, 65, 211, 212], [6, 9, 7, 213, 2, 214, 215, 42], [1, 67, 4, 51, 10, 32], [14, 170], [2, 38, 157, 10, 21], [164, 95, 7, 69, 2, 216, 217], [26, 2, 171, 4, 13, 22, 52, 40], [1, 53, 20, 36, 172, 173], [6, 19, 1, 44, 71, 81], [5, 17, 33, 82, 1, 218, 72], [1, 8, 3, 1, 34, 25, 4, 45], [1, 16, 4, 30, 3, 219], [11, 2, 220], [5, 57, 33, 221, 1, 98, 15, 1, 23, 24, 1, 12], [6, 9, 7, 99, 1, 100], [1, 31, 18, 29, 174, 222, 223, 224], [225, 61, 2, 158], [26, 2, 175, 226, 157, 10, 21], [1, 8, 3, 176, 2, 227, 4, 45], [5, 228, 61, 95, 3, 1, 37], [6, 9, 7, 229, 63, 2, 230, 231], [1, 65, 232, 20, 10, 233], [168, 234, 235, 236], [14, 237], [6, 19, 1, 8, 3, 1, 34, 25], [11, 1, 238, 62], [5, 48, 7, 1, 70, 15, 1, 23, 24, 1, 12], [26, 2, 239, 177, 63, 4, 13], [1, 8, 3, 1, 73, 25, 4, 13], [6, 9, 7, 240, 2, 241, 177, 63], [2, 101, 4, 102, 3, 103], [1, 28, 20, 22, 83, 42], [11, 2, 12, 58], [6, 19, 147, 61, 156, 165, 95, 158], [1, 37, 18, 29, 104], [26, 2, 105, 4, 51, 13], [1, 178, 20, 36, 172, 173], [14, 106], [6, 9, 7, 84, 2, 107], [1, 31, 4, 242, 147], [5, 46, 2, 85, 54], [1, 8, 3, 1, 53, 39, 4, 159], [6, 9, 7, 64, 3, 1, 243], [1, 16, 27, 35, 30, 3, 1, 170], [11, 1, 244], [5, 17, 1, 86, 87], [1, 8, 3, 176, 2, 72, 4, 13], [6, 19, 1, 44, 71, 39, 8], [2, 171, 18, 29, 245], [26, 2, 246, 47, 4, 13], [1, 28, 49, 22, 83, 42], [14, 65, 247], [6, 9, 7, 46, 2, 248], [1, 8, 3, 1, 88, 55, 4, 13], [5, 108, 2, 109, 3, 1, 31], [11, 2, 62, 249], [1, 16, 27, 35, 30, 3, 110], [6, 9, 7, 75, 111, 3, 1, 77, 112], [1, 59, 20, 36, 56, 41], [5, 66, 2, 113, 67, 15, 1, 23, 24, 1, 21], [26, 2, 38, 114, 4, 51], [1, 8, 3, 1, 34, 25, 4, 13], [6, 19, 1, 115, 28], [2, 89, 4, 116], [11, 1, 117], [5, 17, 1, 86, 118, 33, 119], [1, 16, 4, 30, 3, 1, 60, 62], [6, 9, 7, 120, 2, 250], [1, 121, 20, 22, 52, 40, 13], [14, 122, 12], [5, 79, 1, 123, 124, 15, 1, 23, 24, 1, 32], [1, 8, 3, 1, 68, 90, 4, 10, 43], [6, 19, 1, 8, 3, 1, 73, 25], [2, 38, 18, 251], [11, 2, 125, 50], [5, 64, 3, 1, 91, 126], [6, 9, 7, 92, 36, 2, 252], [11, 2, 253], [1, 8, 3, 1, 127, 55, 4, 45], [5, 17, 1, 128, 3, 254, 37], [1, 16, 27, 35, 30, 3, 255], [6, 19, 1, 44, 39, 81], [2, 38, 27, 129, 69, 10, 32], [14, 256, 12], [5, 48, 7, 1, 70, 15, 1, 23, 24, 1, 21], [1, 53, 257, 20, 36, 160, 41], [26, 2, 76, 47, 4, 10, 130], [1, 28, 49, 13], [6, 9, 7, 92, 58, 1, 258, 166, 259], [2, 89, 18, 29, 260], [11, 2, 131, 132], [5, 57, 63, 3, 1, 59, 15, 43], [1, 8, 3, 1, 34, 25, 4, 10, 32], [14, 261, 12], [5, 46, 2, 133, 54], [1, 16, 134, 22, 52, 40, 13], [6, 9, 7, 84, 2, 135, 7, 1, 31], [11, 2, 12], [5, 17, 33, 82, 1, 136, 72], [1, 8, 3, 1, 68, 90, 4, 45], [2, 137, 138, 4, 80], [14, 262], [6, 19, 147, 61, 156, 263, 158], [5, 64, 3, 1, 91, 264], [1, 8, 3, 1, 73, 25, 4, 10, 21], [2, 38, 27, 265, 163], [11, 2, 62], [5, 66, 2, 169, 15, 1, 23, 24, 1, 12], [1, 178, 18, 29, 174], [1, 16, 27, 35, 30, 3, 1, 60], [6, 9, 7, 139, 3, 1, 140], [26, 2, 175, 39, 157, 10, 32], [1, 37, 141, 18, 142], [5, 17, 1, 65, 87, 143], [1, 8, 3, 1, 88, 55, 4, 10, 43], [2, 144, 18, 29, 145], [14, 146, 12], [6, 19, 1, 44, 71, 39, 8], [11, 2, 50], [5, 46, 2, 85, 54], [1, 16, 97, 36, 56, 41], [26, 2, 105, 4, 51, 10, 21], [1, 31, 20, 22, 148, 74, 42], [6, 9, 7, 149, 2, 150, 78, 14, 96], [1, 28, 20, 13], [5, 108, 2, 109, 3, 1, 53], [2, 101, 4, 102, 3, 103], [11, 2, 12, 58], [5, 17, 33, 57, 1, 98], [1, 8, 3, 1, 34, 25, 4, 45], [6, 9, 7, 99, 1, 100], [1, 53, 27, 35, 151, 152], [5, 48, 7, 1, 94, 15, 1, 23, 24, 1, 12], [1, 31, 18, 29, 104], [6, 19, 1, 115, 28], [2, 47, 18, 29, 93], [14, 106], [1, 16, 27, 35, 30, 3, 110], [6, 9, 7, 120, 2, 107], [11, 1, 117], [5, 79, 1, 123, 124, 15, 1, 23, 24, 1, 32], [1, 121, 20, 22, 52, 40, 13], [14, 122, 12], [6, 19, 1, 8, 3, 1, 73, 25], [1, 28, 49, 22, 83, 42], [5, 17, 1, 86, 118, 33, 119], [1, 16, 4, 30, 3, 1, 60, 62], [6, 9, 7, 75, 111, 3, 1, 77, 112], [1, 59, 20, 36, 56, 41], [5, 66, 2, 113, 67, 15, 1, 23, 24, 1, 21], [26, 2, 38, 114, 4, 51], [1, 8, 3, 1, 34, 25, 4, 13], [2, 89, 4, 116], [11, 2, 125, 50], [5, 64, 3, 1, 91, 126], [6, 9, 7, 92, 58, 1, 153], [1, 8, 3, 1, 127, 55, 4, 10, 21], [14, 154, 12], [5, 17, 1, 128, 3, 10, 155, 37], [1, 16, 27, 35, 30, 3, 1, 60], [6, 19, 1, 44, 39, 81], [2, 38, 27, 129, 69, 10, 32], [5, 48, 7, 1, 70, 15, 1, 23, 24, 1, 21], [26, 2, 76, 47, 4, 10, 130], [1, 28, 49, 13], [11, 2, 131, 132], [5, 57, 63, 3, 1, 59, 15, 43], [1, 8, 3, 1, 34, 25, 4, 10, 32], [6, 9, 7, 84, 2, 135, 7, 1, 31], [11, 2, 12], [5, 17, 33, 82, 1, 136, 72], [1, 8, 3, 1, 68, 90, 4, 45], [2, 137, 138, 4, 80], [5, 46, 2, 133, 54], [1, 16, 134, 22, 52, 40, 13], [6, 9, 7, 139, 3, 1, 140], [1, 37, 141, 18, 142], [5, 17, 1, 65, 87, 143], [1, 8, 3, 1, 88, 55, 4, 10, 43], [2, 144, 18, 29, 145], [14, 146, 12], [6, 19, 1, 44, 71, 39, 8], [11, 2, 50], [5, 46, 2, 85, 54], [1, 16, 97, 36, 56, 41], [26, 2, 105, 4, 51, 10, 21], [1, 31, 20, 22, 148, 74, 42], [6, 9, 7, 149, 2, 150, 78, 14, 96], [1, 28, 20, 13], [5, 108, 2, 109, 3, 1, 53], [2, 101, 4, 102, 3, 103], [11, 2, 12, 58], [5, 17, 33, 57, 1, 98], [1, 8, 3, 1, 34, 25, 4, 45], [6, 9, 7, 99, 1, 100], [1, 53, 27, 35, 151, 152], [5, 48, 7, 1, 94, 15, 1, 23, 24, 1, 12], [1, 31, 18, 29, 104], [6, 19, 1, 115, 28], [2, 47, 18, 29, 93], [14, 106], [1, 16, 27, 35, 30, 3, 110], [6, 9, 7, 120, 2, 107], [11, 1, 117], [5, 79, 1, 123, 124, 15, 1, 23, 24, 1, 32], [1, 121, 20, 22, 52, 40, 13], [14, 122, 12], [6, 19, 1, 8, 3, 1, 73, 25], [1, 28, 49, 22, 83, 42], [5, 17, 1, 86, 118, 33, 119], [1, 16, 4, 30, 3, 1, 60, 62], [6, 9, 7, 75, 111, 3, 1, 77, 112], [1, 59, 20, 36, 56, 41], [5, 66, 2, 113, 67, 15, 1, 23, 24, 1, 21], [26, 2, 38, 114, 4, 51], [1, 8, 3, 1, 34, 25, 4, 13], [2, 89, 4, 116], [11, 2, 125, 50], [5, 64, 3, 1, 91, 126], [6, 9, 7, 92, 58, 1, 153], [1, 8, 3, 1, 127, 55, 4, 10, 21], [14, 154, 12], [5, 17, 1, 128, 3, 10, 155, 37], [1, 16, 27, 35, 30, 3, 1, 60], [6, 19, 1, 44, 39, 81], [2, 38, 27, 129, 69, 10, 32], [5, 48, 7, 1, 70, 15, 1, 23, 24, 1, 21], [26, 2, 76, 47, 4, 10, 130], [1, 28, 49, 13], [11, 2, 131, 132], [5, 57, 63, 3, 1, 59, 15, 43], [1, 8, 3, 1, 34, 25, 4, 10, 32], [6, 9, 7, 84, 2, 135, 7, 1, 31], [11, 2, 12], [5, 17, 33, 82, 1, 136, 72], [1, 8, 3, 1, 68, 90, 4, 45], [2, 137, 138, 4, 80], [5, 46, 2, 133, 54], [1, 16, 134, 22, 52, 40, 13], [6, 9, 7, 139, 3, 1, 140], [1, 37, 141, 18, 142], [5, 17, 1, 65, 87, 143], [1, 8, 3, 1, 88, 55, 4, 10, 43], [2, 144, 18, 29, 145], [14, 146, 12], [6, 19, 1, 44, 71, 39, 8], [11, 2, 50], [5, 46, 2, 85, 54], [1, 16, 97, 36, 56, 41], [26, 2, 105, 4, 51, 10, 21], [1, 31, 20, 22, 148, 74, 42], [6, 9, 7, 149, 2, 150, 78, 14, 96], [1, 28, 20, 13], [5, 108, 2, 109, 3, 1, 53], [2, 101, 4, 102, 3, 103], [11, 2, 12, 58], [5, 17, 33, 57, 1, 98], [1, 8, 3, 1, 34, 25, 4, 45], [6, 9, 7, 99, 1, 100], [1, 53, 27, 35, 151, 152], [5, 48, 7, 1, 94, 15, 1, 23, 24, 1, 12], [1, 31, 18, 29, 104], [6, 19, 1, 115, 28], [2, 47, 18, 29, 93], [14, 106], [1, 16, 27, 35, 30, 3, 110], [6, 9, 7, 120, 2, 107], [11, 1, 117], [5, 79, 1, 123, 124, 15, 1, 23, 24, 1, 32], [1, 121, 20, 22, 52, 40, 13], [14, 122, 12], [6, 19, 1, 8, 3, 1, 73, 25], [1, 28, 49, 22, 83, 42], [5, 17, 1, 86, 118, 33, 119], [1, 16, 4, 30, 3, 1, 60, 62], [6, 9, 7, 75, 111, 3, 1, 77, 112], [1, 59, 20, 36, 56, 41], [5, 66, 2, 113, 67, 15, 1, 23, 24, 1, 21], [26, 2, 38, 114, 4, 51], [1, 8, 3, 1, 34, 25, 4, 13], [2, 89, 4, 116], [11, 2, 125, 50], [5, 64, 3, 1, 91, 126], [6, 9, 7, 92, 58, 1, 153], [1, 8, 3, 1, 127, 55, 4, 10, 21], [14, 154, 12], [5, 17, 1, 128, 3, 10, 155, 37], [1, 16, 27, 35, 30, 3, 1, 60], [6, 19, 1, 44, 39, 81], [2, 38, 27, 129, 69, 10, 32], [5, 48, 7, 1, 70, 15, 1, 23, 24, 1, 21], [26, 2, 76, 47, 4, 10, 130], [1, 28, 49, 13], [11, 2, 131, 132], [5, 57, 63, 3, 1, 59, 15, 43], [1, 8, 3, 1, 34, 25, 4, 10, 32], [6, 9, 7, 84, 2, 135, 7, 1, 31], [11, 2, 12], [5, 17, 33, 82, 1, 136, 72], [1, 8, 3, 1, 68, 90, 4, 45], [2, 137, 138, 4, 80], [5, 46, 2, 133, 54], [1, 16, 134, 22, 52, 40, 13], [6, 9, 7, 139, 3, 1, 140], [1, 37, 141, 18, 142], [5, 17, 1, 65, 87, 143], [1, 8, 3, 1, 88, 55, 4, 10, 43], [2, 144, 18, 29, 145], [14, 146, 12], [6, 19, 1, 44, 71, 39, 8], [11, 2, 50], [5, 46, 2, 85, 54], [1, 16, 97, 36, 56, 41], [26, 2, 105, 4, 51, 10, 21], [1, 31, 20, 22, 148, 74, 42], [6, 9, 7, 149, 2, 150, 78, 14, 96], [1, 28, 20, 13], [5, 108, 2, 109, 3, 1, 53], [2, 101, 4, 102, 3, 103], [11, 2, 12, 58], [5, 17, 33, 57, 1, 98], [1, 8, 3, 1, 34, 25, 4, 45], [6, 9, 7, 99, 1, 100], [1, 53, 27, 35, 151, 152], [5, 48, 7, 1, 94, 15, 1, 23, 24, 1, 12], [1, 31, 18, 29, 104], [6, 19, 1, 115, 28], [2, 47, 18, 29, 93], [14, 106], [1, 16, 27, 35, 30, 3, 110], [6, 9, 7, 120, 2, 107], [11, 1, 117], [5, 79, 1, 123, 124, 15, 1, 23, 24, 1, 32], [1, 121, 20, 22, 52, 40, 13], [14, 122, 12], [6, 19, 1, 8, 3, 1, 73, 25], [1, 28, 49, 22, 83, 42], [5, 17, 1, 86, 118, 33, 119], [1, 16, 4, 30, 3, 1, 60, 62], [6, 9, 7, 75, 111, 3, 1, 77, 112], [1, 59, 20, 36, 56, 41], [5, 66, 2, 113, 67, 15, 1, 23, 24, 1, 21], [26, 2, 38, 114, 4, 51], [1, 8, 3, 1, 34, 25, 4, 13], [2, 89, 4, 116], [11, 2, 125, 50], [5, 64, 3, 1, 91, 126], [6, 9, 7, 92, 58, 1, 153], [1, 8, 3, 1, 127, 55, 4, 10, 21], [14, 154, 12], [5, 17, 1, 128, 3, 10, 155, 37], [1, 16, 27, 35, 30, 3, 1, 60], [6, 19, 1, 44, 39, 81], [2, 38, 27, 129, 69, 10, 32], [5, 48, 7, 1, 70, 15, 1, 23, 24, 1, 21], [26, 2, 76, 47, 4, 10, 130], [1, 28, 49, 13], [11, 2, 131, 132], [5, 57, 63, 3, 1, 59, 15, 43], [1, 8, 3, 1, 34, 25, 4, 10, 32], [6, 9, 7, 84, 2, 135, 7, 1, 31], [11, 2, 12], [5, 17, 33, 82, 1, 136, 72], [1, 8, 3, 1, 68, 90, 4, 45], [2, 137, 138, 4, 80], [5, 46, 2, 133, 54], [1, 16, 134, 22, 52, 40, 13], [6, 9, 7, 139, 3, 1, 140], [1, 37, 141, 18, 142], [5, 17, 1, 65, 87, 143], [1, 8, 3, 1, 88, 55, 4, 10, 43], [2, 144, 18, 29, 145], [14, 146, 12], [6, 19, 1, 44, 71, 39, 8], [11, 2, 50], [5, 46, 2, 85, 54]]\n",
            "[[  0   0   0 ... 180  74 159]\n",
            " [  0   0   0 ...  93   7  13]\n",
            " [  0   0   0 ...   2 182 183]\n",
            " ...\n",
            " [  0   0   0 ...  71  39   8]\n",
            " [  0   0   0 ...  11   2  50]\n",
            " [  0   0   0 ...   2  85  54]]\n",
            "[1 1 0 1 1 0 1 1 1 0 1 0 1 1 0 1 1 1 1 0 1 1 0 0 1 1 1 0 1 1 1 1 1 1 1 0 0\n",
            " 1 0 1 0 1 1 1 1 1 1 0 1 0 1 1 1 1 0 1 0 1 1 1 1 0 1 1 1 1 1 1 0 1 1 1 1 1\n",
            " 1 0 1 1 1 0 1 1 1 1 1 1 1 1 0 1 1 1 1 0 1 1 1 1 0 1 1 0 1 1 1 1 1 0 1 1 1\n",
            " 1 0 0 0 1 1 0 1 1 1 0 1 1 1 0 1 1 1 1 0 1 1 1 1 1 1 1 1 0 0 1 0 1 1 1 1 0\n",
            " 1 1 0 0 1 1 0 1 1 1 1 1 0 1 1 0 1 1 0 1 1 1 1 1 1 1 1 1 1 0 1 0 1 0 1 1 1\n",
            " 1 1 1 1 0 1 1 1 0 1 1 1 1 1 1 1 1 1 0 0 1 0 1 1 1 1 0 1 1 0 0 1 1 0 1 1 1\n",
            " 1 1 0 1 1 0 1 1 0 1 1 1 1 1 1 1 1 1 1 0 1 0 1 0 1 1 1 1 1 1 1 0 1 1 1 0 1\n",
            " 1 1 1 1 1 1 1 1 0 0 1 0 1 1 1 1 0 1 1 0 0 1 1 0 1 1 1 1 1 0 1 1 0 1 1 0 1\n",
            " 1 1 1 1 1 1 1 1 1 0 1 0 1 0 1 1 1 1 1 1 1 0 1 1 1 0 1 1 1 1 1 1 1 1 1 0 0\n",
            " 1 0 1 1 1 1 0 1 1 0 0 1 1 0 1 1 1 1 1 0 1 1 0 1 1 0 1 1 1 1 1 1 1 1 1 1 0\n",
            " 1 0 1 0 1 1 1 1 1 1 1 0 1 1 1 0 1 1 1 1 1 1 1 1 1 0 0 1 0 1]\n"
          ]
        }
      ],
      "source": [
        "max_words = 1000\n",
        "max_len = 100\n",
        "tokenizer = Tokenizer(num_words=max_words)\n",
        "tokenizer.fit_on_texts(texts)\n",
        "sequences = tokenizer.texts_to_sequences(texts)\n",
        "print(sequences)\n",
        "X = pad_sequences(sequences, maxlen=max_len)\n",
        "print(X)\n",
        "y = np.array(labels)\n",
        "print(y)"
      ]
    },
    {
      "cell_type": "code",
      "source": [
        "X_train, X_test, y_train, y_test = train_test_split(X, y, test_size=0.2, random_state=42)\n",
        "X_train, X_val, y_train, y_val = train_test_split(X_train, y_train, test_size=0.2, random_state=42)"
      ],
      "metadata": {
        "id": "XrqarwkHo1QC"
      },
      "execution_count": null,
      "outputs": []
    },
    {
      "cell_type": "code",
      "execution_count": null,
      "metadata": {
        "id": "8R46TKC5Kz_B",
        "colab": {
          "base_uri": "https://localhost:8080/"
        },
        "outputId": "32c4bf2a-1685-4feb-d365-71825a7d0e37"
      },
      "outputs": [
        {
          "output_type": "stream",
          "name": "stderr",
          "text": [
            "/usr/local/lib/python3.10/dist-packages/keras/src/layers/core/embedding.py:90: UserWarning: Argument `input_length` is deprecated. Just remove it.\n",
            "  warnings.warn(\n"
          ]
        }
      ],
      "source": [
        "model = Sequential()\n",
        "model.add(Embedding(max_words, 100, input_length=max_len))  # Increased embedding dimension\n",
        "model.add(LSTM(128, dropout=0.3, recurrent_dropout=0.3, return_sequences=True))  # Increased LSTM units and dropout, added return_sequences\n",
        "model.add(LSTM(64, dropout=0.2, recurrent_dropout=0.2))  # Another LSTM layer\n",
        "model.add(Dense(64, activation='relu'))  # Added a fully connected layer\n",
        "model.add(Dropout(0.5))  # Added dropout after Dense layer\n",
        "model.add(Dense(1, activation='sigmoid'))  # Output layer"
      ]
    },
    {
      "cell_type": "code",
      "source": [
        "model.compile(optimizer='adam', loss='binary_crossentropy', metrics=['accuracy'])"
      ],
      "metadata": {
        "id": "XclboC9SmC8Y"
      },
      "execution_count": null,
      "outputs": []
    },
    {
      "cell_type": "code",
      "execution_count": null,
      "metadata": {
        "id": "E5wwn97oK35i",
        "colab": {
          "base_uri": "https://localhost:8080/",
          "height": 211
        },
        "outputId": "b7fc79eb-d6bb-48ec-9513-07a13d6946cf"
      },
      "outputs": [
        {
          "output_type": "error",
          "ename": "NameError",
          "evalue": "name 'model' is not defined",
          "traceback": [
            "\u001b[0;31m---------------------------------------------------------------------------\u001b[0m",
            "\u001b[0;31mNameError\u001b[0m                                 Traceback (most recent call last)",
            "\u001b[0;32m<ipython-input-1-718536872>\u001b[0m in \u001b[0;36m<cell line: 0>\u001b[0;34m()\u001b[0m\n\u001b[1;32m      1\u001b[0m \u001b[0;32mimport\u001b[0m \u001b[0mmatplotlib\u001b[0m\u001b[0;34m.\u001b[0m\u001b[0mpyplot\u001b[0m \u001b[0;32mas\u001b[0m \u001b[0mplt\u001b[0m\u001b[0;34m\u001b[0m\u001b[0;34m\u001b[0m\u001b[0m\n\u001b[0;32m----> 2\u001b[0;31m \u001b[0mhistory\u001b[0m \u001b[0;34m=\u001b[0m \u001b[0mmodel\u001b[0m\u001b[0;34m.\u001b[0m\u001b[0mfit\u001b[0m\u001b[0;34m(\u001b[0m\u001b[0mX_train\u001b[0m\u001b[0;34m,\u001b[0m \u001b[0my_train\u001b[0m\u001b[0;34m,\u001b[0m \u001b[0mepochs\u001b[0m\u001b[0;34m=\u001b[0m\u001b[0;36m10\u001b[0m\u001b[0;34m,\u001b[0m \u001b[0mbatch_size\u001b[0m\u001b[0;34m=\u001b[0m\u001b[0;36m32\u001b[0m\u001b[0;34m,\u001b[0m \u001b[0mvalidation_data\u001b[0m\u001b[0;34m=\u001b[0m\u001b[0;34m(\u001b[0m\u001b[0mX_val\u001b[0m\u001b[0;34m,\u001b[0m \u001b[0my_val\u001b[0m\u001b[0;34m)\u001b[0m\u001b[0;34m)\u001b[0m\u001b[0;34m\u001b[0m\u001b[0;34m\u001b[0m\u001b[0m\n\u001b[0m\u001b[1;32m      3\u001b[0m \u001b[0;34m\u001b[0m\u001b[0m\n\u001b[1;32m      4\u001b[0m \u001b[0;31m# Accessing the accuracy values from history\u001b[0m\u001b[0;34m\u001b[0m\u001b[0;34m\u001b[0m\u001b[0m\n\u001b[1;32m      5\u001b[0m \u001b[0mtrain_accuracy\u001b[0m \u001b[0;34m=\u001b[0m \u001b[0mhistory\u001b[0m\u001b[0;34m.\u001b[0m\u001b[0mhistory\u001b[0m\u001b[0;34m[\u001b[0m\u001b[0;34m'accuracy'\u001b[0m\u001b[0;34m]\u001b[0m\u001b[0;34m\u001b[0m\u001b[0;34m\u001b[0m\u001b[0m\n",
            "\u001b[0;31mNameError\u001b[0m: name 'model' is not defined"
          ]
        }
      ],
      "source": [
        "import matplotlib.pyplot as plt\n",
        "history = model.fit(X_train, y_train, epochs=10, batch_size=32, validation_data=(X_val, y_val))\n",
        "\n",
        "# Accessing the accuracy values from history\n",
        "train_accuracy = history.history['accuracy']\n",
        "val_accuracy = history.history['val_accuracy']\n",
        "\n",
        "# Plotting the training and validation accuracy\n",
        "plt.plot(train_accuracy, label='Training Accuracy')\n",
        "plt.plot(val_accuracy, label='Validation Accuracy')\n",
        "plt.title('Training and Validation Accuracy')\n",
        "plt.xlabel('Epochs')\n",
        "plt.ylabel('Accuracy')\n",
        "plt.legend()\n",
        "plt.show()\n"
      ]
    },
    {
      "cell_type": "code",
      "source": [
        "# Save model and tokenizer\n",
        "print(\"Saving model and tokenizer...\")\n",
        "\n",
        "# Save the Keras model\n",
        "model.save(\"time_sensitive_model.h5\")\n",
        "print(f\"✅ Model saved as 'time_sensitive_model.h5'\")\n",
        "\n",
        "# Save the tokenizer using pickle\n",
        "with open(\"tokenizer.pkl\", \"wb\") as handle:\n",
        "    pickle.dump(tokenizer, handle, protocol=pickle.HIGHEST_PROTOCOL)\n",
        "print(f\"✅ Tokenizer saved as 'tokenizer.pkl'\")"
      ],
      "metadata": {
        "id": "zjxPrUF-lIoC"
      },
      "execution_count": null,
      "outputs": []
    },
    {
      "cell_type": "code",
      "source": [
        "test_loss, test_accuracy = model.evaluate(X_test, y_test)\n",
        "print(f'Test Accuracy: {test_accuracy}')\n"
      ],
      "metadata": {
        "colab": {
          "base_uri": "https://localhost:8080/"
        },
        "id": "whrokks3pGHb",
        "outputId": "e575cf4f-c28c-4d8d-f98b-e0283597a70e"
      },
      "execution_count": null,
      "outputs": [
        {
          "output_type": "stream",
          "name": "stdout",
          "text": [
            "\u001b[1m3/3\u001b[0m \u001b[32m━━━━━━━━━━━━━━━━━━━━\u001b[0m\u001b[37m\u001b[0m \u001b[1m1s\u001b[0m 61ms/step - accuracy: 0.8953 - loss: 0.2444\n",
            "Test Accuracy: 0.8999999761581421\n"
          ]
        }
      ]
    },
    {
      "cell_type": "code",
      "source": [
        "train_loss = history.history['loss']\n",
        "val_loss = history.history['val_loss']\n",
        "\n",
        "# Plotting the training and validation loss\n",
        "plt.plot(train_loss, label='Training Loss')\n",
        "plt.plot(val_loss, label='Validation Loss')\n",
        "plt.title('Training and Validation Loss')\n",
        "plt.xlabel('Epochs')\n",
        "plt.ylabel('Loss')\n",
        "plt.legend()\n",
        "plt.show()\n"
      ],
      "metadata": {
        "colab": {
          "base_uri": "https://localhost:8080/",
          "height": 472
        },
        "id": "yWvQyGv1lqvQ",
        "outputId": "1e0b2325-238f-4cab-a44e-3adfdeeacf81"
      },
      "execution_count": null,
      "outputs": [
        {
          "output_type": "display_data",
          "data": {
            "text/plain": [
              "<Figure size 640x480 with 1 Axes>"
            ],
            "image/png": "[encoded data removed]"
          },
          "metadata": {}
        }
      ]
    },
    {
      "cell_type": "code",
      "execution_count": null,
      "metadata": {
        "id": "BZ4LerDsLaZV"
      },
      "outputs": [],
      "source": [
        "new_texts = [\"Don't forget the deadline for the project is Friday.\",\n",
        "             \"Let's meet at 2 PM to discuss the budget.\",\n",
        "             \"The weather forecast for tomorrow is sunny.\"\n",
        "             ,\"hi\"]"
      ]
    },
    {
      "cell_type": "code",
      "execution_count": null,
      "metadata": {
        "id": "_kR9k-zwLeEN"
      },
      "outputs": [],
      "source": [
        "new_sequences = tokenizer.texts_to_sequences(new_texts)\n",
        "new_X = pad_sequences(new_sequences, maxlen=max_len)"
      ]
    },
    {
      "cell_type": "code",
      "execution_count": null,
      "metadata": {
        "colab": {
          "base_uri": "https://localhost:8080/"
        },
        "id": "f4VSdP0ULhJ4",
        "outputId": "2e6e91bd-fbe1-4287-8989-40cfc408d692"
      },
      "outputs": [
        {
          "output_type": "stream",
          "name": "stdout",
          "text": [
            "\u001b[1m1/1\u001b[0m \u001b[32m━━━━━━━━━━━━━━━━━━━━\u001b[0m\u001b[37m\u001b[0m \u001b[1m0s\u001b[0m 387ms/step\n"
          ]
        }
      ],
      "source": [
        "predictions = model.predict(new_X)"
      ]
    },
    {
      "cell_type": "code",
      "execution_count": null,
      "metadata": {
        "colab": {
          "base_uri": "https://localhost:8080/"
        },
        "id": "z5ydp0RlLlu7",
        "outputId": "96c250d9-97ca-4cb4-d0c9-5a2173773190"
      },
      "outputs": [
        {
          "output_type": "stream",
          "name": "stdout",
          "text": [
            "Text: 'Don't forget the deadline for the project is Friday.' is identified as time-sensitive.\n",
            "Text: 'Let's meet at 2 PM to discuss the budget.' is identified as time-sensitive.\n",
            "Text: 'The weather forecast for tomorrow is sunny.' is identified as time-sensitive.\n",
            "Text: 'hi' is not identified as time-sensitive.\n"
          ]
        }
      ],
      "source": [
        "threshold = 0.75  # Adjust as needed based on your model's performance\n",
        "for i, text in enumerate(new_texts):\n",
        "    if predictions[i] > threshold:\n",
        "        print(f\"Text: '{text}' is identified as time-sensitive.\")\n",
        "    else:\n",
        "        print(f\"Text: '{text}' is not identified as time-sensitive.\")"
      ]
    },
    {
      "cell_type": "code",
      "source": [
        "%notebook -e combined_cells.py"
      ],
      "metadata": {
        "id": "AnnKW2ZYMcQS"
      },
      "execution_count": null,
      "outputs": []
    },
    {
      "cell_type": "code",
      "source": [],
      "metadata": {
        "id": "3pk0O0dGMWPA"
      },
      "execution_count": null,
      "outputs": []
    },
    {
      "cell_type": "code",
      "source": [],
      "metadata": {
        "id": "hZkhMOKTO_j8"
      },
      "execution_count": null,
      "outputs": []
    },
    {
      "cell_type": "code",
      "source": [],
      "metadata": {
        "id": "NpHaO6VhUl7z"
      },
      "execution_count": null,
      "outputs": []
    },
    {
      "cell_type": "code",
      "source": [],
      "metadata": {
        "id": "VvEcGtrKPUXQ"
      },
      "execution_count": null,
      "outputs": []
    }
  ],
  "metadata": {
    "colab": {
      "provenance": []
    },
    "kernelspec": {
      "display_name": "Python 3",
      "name": "python3"
    },
    "language_info": {
      "name": "python"
    }
  },
  "nbformat": 4,
  "nbformat_minor": 0
}